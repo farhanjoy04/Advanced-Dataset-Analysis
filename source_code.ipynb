{
 "cells": [
  {
   "cell_type": "markdown",
   "metadata": {},
   "source": [
    "Importing all necessary library"
   ]
  },
  {
   "cell_type": "code",
   "execution_count": 1,
   "metadata": {},
   "outputs": [],
   "source": [
    "import openpyxl as os\n",
    "import numpy as np\n",
    "import matplotlib.pyplot as plt\n",
    "import pandas as pd\n",
    "from sklearn.model_selection import train_test_split\n",
    "from sklearn.linear_model import LinearRegression\n",
    "from sklearn.metrics import mean_squared_error, precision_score, recall_score, f1_score, confusion_matrix\n",
    "from sklearn.svm import SVC\n",
    "from sklearn.linear_model import LogisticRegression\n",
    "import seaborn as sns"
   ]
  },
  {
   "cell_type": "markdown",
   "metadata": {},
   "source": [
    "Dataset"
   ]
  },
  {
   "cell_type": "code",
   "execution_count": 4,
   "metadata": {},
   "outputs": [
    {
     "name": "stdout",
     "output_type": "stream",
     "text": [
      "        ID Martial Status  Gender    Income  Children        Education  \\\n",
      "0    12496        Married  Female   $40,000         1        Bachelors   \n",
      "1    24107        Married    Male   $30,000         3  Partial College   \n",
      "2    14177        Married    Male   $80,000         5  Partial College   \n",
      "3    24381         Single    Male   $70,000         0        Bachelors   \n",
      "4    25597         Single    Male   $30,000         0        Bachelors   \n",
      "..     ...            ...     ...       ...       ...              ...   \n",
      "995  23731        Married    Male   $60,000         2      High School   \n",
      "996  28672         Single    Male   $70,000         4  Graduate Degree   \n",
      "997  11809        Married    Male   $60,000         2        Bachelors   \n",
      "998  19664         Single    Male  $100,000         3        Bachelors   \n",
      "999  12121         Single    Male   $60,000         3      High School   \n",
      "\n",
      "         Occupation Home Owner  Cars    Commute Distance         Region  Age  \\\n",
      "0    Skilled Manual        Yes     0           0-1 Miles         Europe   42   \n",
      "1          Clerical        Yes     1           0-1 Miles         Europe   43   \n",
      "2      Professional         No     2           2-5 Miles         Europe   60   \n",
      "3      Professional        Yes     1          5-10 Miles        Pacific   41   \n",
      "4          Clerical         No     0           0-1 Miles         Europe   36   \n",
      "..              ...        ...   ...                 ...            ...  ...   \n",
      "995    Professional        Yes     2           2-5 Miles  North America   54   \n",
      "996    Professional        Yes     0           2-5 Miles  North America   35   \n",
      "997  Skilled Manual        Yes     0           0-1 Miles  North America   38   \n",
      "998      Management         No     3           1-2 Miles  North America   38   \n",
      "999    Professional        Yes     2  More than 10 Miles  North America   53   \n",
      "\n",
      "    Age Brackets Purchased Bike  \n",
      "0     Middle Age             No  \n",
      "1     Middle Age             No  \n",
      "2            Old             No  \n",
      "3     Middle Age            Yes  \n",
      "4     Middle Age            Yes  \n",
      "..           ...            ...  \n",
      "995   Middle Age            Yes  \n",
      "996   Middle Age            Yes  \n",
      "997   Middle Age            Yes  \n",
      "998   Middle Age             No  \n",
      "999   Middle Age            Yes  \n",
      "\n",
      "[1000 rows x 14 columns]\n"
     ]
    }
   ],
   "source": [
    "data = pd.read_csv(\"Bike-Sales-Dashboard.csv\")\n",
    "print(data)"
   ]
  }
 ],
 "metadata": {
  "kernelspec": {
   "display_name": "base",
   "language": "python",
   "name": "python3"
  },
  "language_info": {
   "codemirror_mode": {
    "name": "ipython",
    "version": 3
   },
   "file_extension": ".py",
   "mimetype": "text/x-python",
   "name": "python",
   "nbconvert_exporter": "python",
   "pygments_lexer": "ipython3",
   "version": "3.12.7"
  }
 },
 "nbformat": 4,
 "nbformat_minor": 2
}
